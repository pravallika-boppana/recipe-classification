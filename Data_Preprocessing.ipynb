{
 "cells": [
  {
   "cell_type": "code",
   "execution_count": 3,
   "metadata": {},
   "outputs": [
    {
     "name": "stdout",
     "output_type": "stream",
     "text": [
      "(39774, 3)\n",
      "       cuisine     id                                        ingredients\n",
      "0        greek  10259  [romaine lettuce, black olives, grape tomatoes...\n",
      "1  southern_us  25693  [plain flour, ground pepper, salt, tomatoes, g...\n",
      "2     filipino  20130  [eggs, pepper, salt, mayonaise, cooking oil, g...\n",
      "3       indian  22213                [water, vegetable oil, wheat, salt]\n",
      "4       indian  13162  [black pepper, shallots, cornflour, cayenne pe...\n",
      "(9944, 2)\n",
      "      id                                        ingredients\n",
      "0  18009  [baking powder, eggs, all-purpose flour, raisi...\n",
      "1  28583  [sugar, egg yolks, corn starch, cream of tarta...\n",
      "2  41580  [sausage links, fennel bulb, fronds, olive oil...\n",
      "3  29752  [meat cuts, file powder, smoked sausage, okra,...\n",
      "4  35687  [ground black pepper, salt, sausage casings, l...\n",
      "20\n",
      "['greek' 'southern_us' 'filipino' 'indian' 'jamaican' 'spanish' 'italian'\n",
      " 'mexican' 'chinese' 'british' 'thai' 'vietnamese' 'cajun_creole'\n",
      " 'brazilian' 'french' 'japanese' 'irish' 'korean' 'moroccan' 'russian']\n"
     ]
    }
   ],
   "source": [
    "import pandas as pd\n",
    "import json\n",
    "\n",
    "train_dataset = pd.read_json(\"train.json\")\n",
    "print(train_dataset.shape)\n",
    "print(train_dataset.head())\n",
    "\n",
    "test_dataset = pd.read_json(\"test.json\")\n",
    "print(test_dataset.shape)\n",
    "print(test_dataset.head())\n",
    "\n",
    "sum(train_dataset['id'].isnull())\n",
    "sum(train_dataset['cuisine'].isnull())\n",
    "sum(train_dataset['ingredients'].isnull())\n",
    "\n",
    "\n",
    "train_dataset['id'].unique().shape\n",
    "cuisines = train_dataset['cuisine'].unique()\n",
    "cuisines.shape #gives the number of unique cuisines\n",
    "print(len(cuisines))\n",
    "print(cuisines)\n"
   ]
  },
  {
   "cell_type": "code",
   "execution_count": 4,
   "metadata": {},
   "outputs": [
    {
     "name": "stdout",
     "output_type": "stream",
     "text": [
      "6714\n"
     ]
    }
   ],
   "source": [
    "food_items = []\n",
    "for items in train_dataset['ingredients']:\n",
    "    for item in items:\n",
    "        if item not in food_items:\n",
    "            food_items.append(item)\n",
    "print(len(food_items))"
   ]
  },
  {
   "cell_type": "code",
   "execution_count": 5,
   "metadata": {},
   "outputs": [
    {
     "data": {
      "text/plain": [
       "Text(0.5, 1.0, 'Cuisine Distribution')"
      ]
     },
     "execution_count": 5,
     "metadata": {},
     "output_type": "execute_result"
    },
    {
     "data": {
      "image/png": "[encoded data removed]",
      "text/plain": [
       "<Figure size 576x360 with 1 Axes>"
      ]
     },
     "metadata": {
      "needs_background": "light"
     },
     "output_type": "display_data"
    }
   ],
   "source": [
    "import seaborn as sns\n",
    "import matplotlib.pyplot as plt\n",
    "sns.countplot(y='cuisine', data=train_dataset)\n",
    "plt.gcf().set_size_inches(8,5)\n",
    "plt.title('Cuisine Distribution',size=1)"
   ]
  },
  {
   "cell_type": "code",
   "execution_count": null,
   "metadata": {},
   "outputs": [],
   "source": []
  }
 ],
 "metadata": {
  "kernelspec": {
   "display_name": "Python 3",
   "language": "python",
   "name": "python3"
  },
  "language_info": {
   "codemirror_mode": {
    "name": "ipython",
    "version": 3
   },
   "file_extension": ".py",
   "mimetype": "text/x-python",
   "name": "python",
   "nbconvert_exporter": "python",
   "pygments_lexer": "ipython3",
   "version": "3.7.3"
  }
 },
 "nbformat": 4,
 "nbformat_minor": 2
}
