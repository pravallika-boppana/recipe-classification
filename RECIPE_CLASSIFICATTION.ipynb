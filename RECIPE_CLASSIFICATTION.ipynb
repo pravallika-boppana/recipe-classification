{
 "cells": [
  {
   "cell_type": "code",
   "execution_count": 5,
   "metadata": {
    "colab": {},
    "colab_type": "code",
    "id": "_jTnIckVz9BW"
   },
   "outputs": [],
   "source": [
    "import pandas as pd\n",
    "import json\n",
    "import numpy as np\n",
    "from sklearn.model_selection import train_test_split\n",
    "from sklearn.metrics import *\n",
    "import operator\n"
   ]
  },
  {
   "cell_type": "code",
   "execution_count": 6,
   "metadata": {
    "colab": {},
    "colab_type": "code",
    "id": "HlhzxhG2wj_N"
   },
   "outputs": [
    {
     "name": "stdout",
     "output_type": "stream",
     "text": [
      "(100, 3)\n"
     ]
    },
    {
     "data": {
      "text/html": [
       "<div>\n",
       "<style scoped>\n",
       "    .dataframe tbody tr th:only-of-type {\n",
       "        vertical-align: middle;\n",
       "    }\n",
       "\n",
       "    .dataframe tbody tr th {\n",
       "        vertical-align: top;\n",
       "    }\n",
       "\n",
       "    .dataframe thead th {\n",
       "        text-align: right;\n",
       "    }\n",
       "</style>\n",
       "<table border=\"1\" class=\"dataframe\">\n",
       "  <thead>\n",
       "    <tr style=\"text-align: right;\">\n",
       "      <th></th>\n",
       "      <th>cuisine</th>\n",
       "      <th>id</th>\n",
       "      <th>ingredients</th>\n",
       "    </tr>\n",
       "  </thead>\n",
       "  <tbody>\n",
       "    <tr>\n",
       "      <th>0</th>\n",
       "      <td>greek</td>\n",
       "      <td>10259</td>\n",
       "      <td>[romaine lettuce, black olives, grape tomatoes...</td>\n",
       "    </tr>\n",
       "    <tr>\n",
       "      <th>1</th>\n",
       "      <td>southern_us</td>\n",
       "      <td>25693</td>\n",
       "      <td>[plain flour, ground pepper, salt, tomatoes, g...</td>\n",
       "    </tr>\n",
       "    <tr>\n",
       "      <th>2</th>\n",
       "      <td>filipino</td>\n",
       "      <td>20130</td>\n",
       "      <td>[eggs, pepper, salt, mayonaise, cooking oil, g...</td>\n",
       "    </tr>\n",
       "    <tr>\n",
       "      <th>3</th>\n",
       "      <td>indian</td>\n",
       "      <td>22213</td>\n",
       "      <td>[water, vegetable oil, wheat, salt]</td>\n",
       "    </tr>\n",
       "    <tr>\n",
       "      <th>4</th>\n",
       "      <td>indian</td>\n",
       "      <td>13162</td>\n",
       "      <td>[black pepper, shallots, cornflour, cayenne pe...</td>\n",
       "    </tr>\n",
       "  </tbody>\n",
       "</table>\n",
       "</div>"
      ],
      "text/plain": [
       "       cuisine     id                                        ingredients\n",
       "0        greek  10259  [romaine lettuce, black olives, grape tomatoes...\n",
       "1  southern_us  25693  [plain flour, ground pepper, salt, tomatoes, g...\n",
       "2     filipino  20130  [eggs, pepper, salt, mayonaise, cooking oil, g...\n",
       "3       indian  22213                [water, vegetable oil, wheat, salt]\n",
       "4       indian  13162  [black pepper, shallots, cornflour, cayenne pe..."
      ]
     },
     "execution_count": 6,
     "metadata": {},
     "output_type": "execute_result"
    }
   ],
   "source": [
    "dataset = pd.read_json(open(\"train.json\"))\n",
    "dataset = dataset.iloc[:100,:]\n",
    "print(dataset.shape)\n",
    "dataset.head()"
   ]
  },
  {
   "cell_type": "code",
   "execution_count": 7,
   "metadata": {
    "colab": {},
    "colab_type": "code",
    "id": "BXTVkO8g1v6U"
   },
   "outputs": [
    {
     "name": "stdout",
     "output_type": "stream",
     "text": [
      "(100, 3)\n",
      "0\n",
      "0\n"
     ]
    }
   ],
   "source": [
    "print(dataset.shape)\n",
    "dataset = dataset.drop('id', axis = 1)\n",
    "print(sum(dataset['cuisine'].isnull()))\n",
    "print(sum(dataset['ingredients'].isnull()))"
   ]
  },
  {
   "cell_type": "code",
   "execution_count": 8,
   "metadata": {
    "colab": {},
    "colab_type": "code",
    "id": "A5R7zmVbDsY0"
   },
   "outputs": [
    {
     "data": {
      "text/plain": [
       "Text(0,0.5,'Cuisine')"
      ]
     },
     "execution_count": 8,
     "metadata": {},
     "output_type": "execute_result"
    }
   ],
   "source": [
    "import seaborn as sns\n",
    "import matplotlib.pyplot as plt\n",
    "sns.countplot(y='cuisine', data=dataset)\n",
    "plt.gcf().set_size_inches(8,5)\n",
    "plt.title('Cuisine Distribution',size=1)\n",
    "plt.xlabel('No. of Recipes')\n",
    "plt.ylabel('Cuisine')"
   ]
  },
  {
   "cell_type": "code",
   "execution_count": 9,
   "metadata": {
    "colab": {},
    "colab_type": "code",
    "id": "MKW_t8rt15RC"
   },
   "outputs": [
    {
     "name": "stdout",
     "output_type": "stream",
     "text": [
      "Cuisines :  19\n"
     ]
    }
   ],
   "source": [
    "cuisines = dataset['cuisine'].unique()\n",
    "cuisines.shape\n",
    "print(\"Cuisines : \", len(cuisines))\n"
   ]
  },
  {
   "cell_type": "code",
   "execution_count": 10,
   "metadata": {
    "colab": {},
    "colab_type": "code",
    "id": "SgJik_kq_Roq"
   },
   "outputs": [],
   "source": [
    "mod_cuisine = []\n",
    "for c in dataset['cuisine']:\n",
    "  mod_cuisine.append(c.capitalize())\n",
    "dataset['cuisine'] = mod_cuisine"
   ]
  },
  {
   "cell_type": "code",
   "execution_count": 11,
   "metadata": {
    "colab": {},
    "colab_type": "code",
    "id": "qQsvv83qBXL3"
   },
   "outputs": [
    {
     "name": "stdout",
     "output_type": "stream",
     "text": [
      "unique ingredients :  477\n"
     ]
    }
   ],
   "source": [
    "def extract_unique_items(ingredients):\n",
    "    unique_items = []\n",
    "    for items in ingredients:\n",
    "        for item in items:\n",
    "            if item not in unique_items:\n",
    "                unique_items.append(item)\n",
    "    return unique_items\n",
    "ingredients = extract_unique_items(dataset['ingredients'])\n",
    "print(\"unique ingredients : \", len(ingredients))"
   ]
  },
  {
   "cell_type": "code",
   "execution_count": 12,
   "metadata": {
    "colab": {},
    "colab_type": "code",
    "id": "TmzrN6q5wyQJ",
    "scrolled": true
   },
   "outputs": [
    {
     "data": {
      "text/html": [
       "<div>\n",
       "<style scoped>\n",
       "    .dataframe tbody tr th:only-of-type {\n",
       "        vertical-align: middle;\n",
       "    }\n",
       "\n",
       "    .dataframe tbody tr th {\n",
       "        vertical-align: top;\n",
       "    }\n",
       "\n",
       "    .dataframe thead th {\n",
       "        text-align: right;\n",
       "    }\n",
       "</style>\n",
       "<table border=\"1\" class=\"dataframe\">\n",
       "  <thead>\n",
       "    <tr style=\"text-align: right;\">\n",
       "      <th></th>\n",
       "      <th>cuisine</th>\n",
       "      <th>ingredients</th>\n",
       "      <th>romaine lettuce</th>\n",
       "      <th>black olives</th>\n",
       "      <th>grape tomatoes</th>\n",
       "      <th>garlic</th>\n",
       "      <th>pepper</th>\n",
       "      <th>purple onion</th>\n",
       "      <th>seasoning</th>\n",
       "      <th>garbanzo beans</th>\n",
       "      <th>...</th>\n",
       "      <th>hominy</th>\n",
       "      <th>tomatillos</th>\n",
       "      <th>pepitas</th>\n",
       "      <th>catfish fillets</th>\n",
       "      <th>basmati rice</th>\n",
       "      <th>cauliflower</th>\n",
       "      <th>cumin</th>\n",
       "      <th>blood orange</th>\n",
       "      <th>low salt chicken broth</th>\n",
       "      <th>white wine vinegar</th>\n",
       "    </tr>\n",
       "  </thead>\n",
       "  <tbody>\n",
       "    <tr>\n",
       "      <th>0</th>\n",
       "      <td>Greek</td>\n",
       "      <td>[romaine lettuce, black olives, grape tomatoes...</td>\n",
       "      <td>0.0</td>\n",
       "      <td>0.0</td>\n",
       "      <td>0.0</td>\n",
       "      <td>0.0</td>\n",
       "      <td>0.0</td>\n",
       "      <td>0.0</td>\n",
       "      <td>0.0</td>\n",
       "      <td>0.0</td>\n",
       "      <td>...</td>\n",
       "      <td>0.0</td>\n",
       "      <td>0.0</td>\n",
       "      <td>0.0</td>\n",
       "      <td>0.0</td>\n",
       "      <td>0.0</td>\n",
       "      <td>0.0</td>\n",
       "      <td>0.0</td>\n",
       "      <td>0.0</td>\n",
       "      <td>0.0</td>\n",
       "      <td>0.0</td>\n",
       "    </tr>\n",
       "    <tr>\n",
       "      <th>1</th>\n",
       "      <td>Southern_us</td>\n",
       "      <td>[plain flour, ground pepper, salt, tomatoes, g...</td>\n",
       "      <td>0.0</td>\n",
       "      <td>0.0</td>\n",
       "      <td>0.0</td>\n",
       "      <td>0.0</td>\n",
       "      <td>0.0</td>\n",
       "      <td>0.0</td>\n",
       "      <td>0.0</td>\n",
       "      <td>0.0</td>\n",
       "      <td>...</td>\n",
       "      <td>0.0</td>\n",
       "      <td>0.0</td>\n",
       "      <td>0.0</td>\n",
       "      <td>0.0</td>\n",
       "      <td>0.0</td>\n",
       "      <td>0.0</td>\n",
       "      <td>0.0</td>\n",
       "      <td>0.0</td>\n",
       "      <td>0.0</td>\n",
       "      <td>0.0</td>\n",
       "    </tr>\n",
       "    <tr>\n",
       "      <th>2</th>\n",
       "      <td>Filipino</td>\n",
       "      <td>[eggs, pepper, salt, mayonaise, cooking oil, g...</td>\n",
       "      <td>0.0</td>\n",
       "      <td>0.0</td>\n",
       "      <td>0.0</td>\n",
       "      <td>0.0</td>\n",
       "      <td>0.0</td>\n",
       "      <td>0.0</td>\n",
       "      <td>0.0</td>\n",
       "      <td>0.0</td>\n",
       "      <td>...</td>\n",
       "      <td>0.0</td>\n",
       "      <td>0.0</td>\n",
       "      <td>0.0</td>\n",
       "      <td>0.0</td>\n",
       "      <td>0.0</td>\n",
       "      <td>0.0</td>\n",
       "      <td>0.0</td>\n",
       "      <td>0.0</td>\n",
       "      <td>0.0</td>\n",
       "      <td>0.0</td>\n",
       "    </tr>\n",
       "    <tr>\n",
       "      <th>3</th>\n",
       "      <td>Indian</td>\n",
       "      <td>[water, vegetable oil, wheat, salt]</td>\n",
       "      <td>0.0</td>\n",
       "      <td>0.0</td>\n",
       "      <td>0.0</td>\n",
       "      <td>0.0</td>\n",
       "      <td>0.0</td>\n",
       "      <td>0.0</td>\n",
       "      <td>0.0</td>\n",
       "      <td>0.0</td>\n",
       "      <td>...</td>\n",
       "      <td>0.0</td>\n",
       "      <td>0.0</td>\n",
       "      <td>0.0</td>\n",
       "      <td>0.0</td>\n",
       "      <td>0.0</td>\n",
       "      <td>0.0</td>\n",
       "      <td>0.0</td>\n",
       "      <td>0.0</td>\n",
       "      <td>0.0</td>\n",
       "      <td>0.0</td>\n",
       "    </tr>\n",
       "    <tr>\n",
       "      <th>4</th>\n",
       "      <td>Indian</td>\n",
       "      <td>[black pepper, shallots, cornflour, cayenne pe...</td>\n",
       "      <td>0.0</td>\n",
       "      <td>0.0</td>\n",
       "      <td>0.0</td>\n",
       "      <td>0.0</td>\n",
       "      <td>0.0</td>\n",
       "      <td>0.0</td>\n",
       "      <td>0.0</td>\n",
       "      <td>0.0</td>\n",
       "      <td>...</td>\n",
       "      <td>0.0</td>\n",
       "      <td>0.0</td>\n",
       "      <td>0.0</td>\n",
       "      <td>0.0</td>\n",
       "      <td>0.0</td>\n",
       "      <td>0.0</td>\n",
       "      <td>0.0</td>\n",
       "      <td>0.0</td>\n",
       "      <td>0.0</td>\n",
       "      <td>0.0</td>\n",
       "    </tr>\n",
       "  </tbody>\n",
       "</table>\n",
       "<p>5 rows × 479 columns</p>\n",
       "</div>"
      ],
      "text/plain": [
       "       cuisine                                        ingredients  \\\n",
       "0        Greek  [romaine lettuce, black olives, grape tomatoes...   \n",
       "1  Southern_us  [plain flour, ground pepper, salt, tomatoes, g...   \n",
       "2     Filipino  [eggs, pepper, salt, mayonaise, cooking oil, g...   \n",
       "3       Indian                [water, vegetable oil, wheat, salt]   \n",
       "4       Indian  [black pepper, shallots, cornflour, cayenne pe...   \n",
       "\n",
       "   romaine lettuce  black olives  grape tomatoes  garlic  pepper  \\\n",
       "0              0.0           0.0             0.0     0.0     0.0   \n",
       "1              0.0           0.0             0.0     0.0     0.0   \n",
       "2              0.0           0.0             0.0     0.0     0.0   \n",
       "3              0.0           0.0             0.0     0.0     0.0   \n",
       "4              0.0           0.0             0.0     0.0     0.0   \n",
       "\n",
       "   purple onion  seasoning  garbanzo beans  ...  hominy  tomatillos  pepitas  \\\n",
       "0           0.0        0.0             0.0  ...     0.0         0.0      0.0   \n",
       "1           0.0        0.0             0.0  ...     0.0         0.0      0.0   \n",
       "2           0.0        0.0             0.0  ...     0.0         0.0      0.0   \n",
       "3           0.0        0.0             0.0  ...     0.0         0.0      0.0   \n",
       "4           0.0        0.0             0.0  ...     0.0         0.0      0.0   \n",
       "\n",
       "   catfish fillets  basmati rice  cauliflower  cumin  blood orange  \\\n",
       "0              0.0           0.0          0.0    0.0           0.0   \n",
       "1              0.0           0.0          0.0    0.0           0.0   \n",
       "2              0.0           0.0          0.0    0.0           0.0   \n",
       "3              0.0           0.0          0.0    0.0           0.0   \n",
       "4              0.0           0.0          0.0    0.0           0.0   \n",
       "\n",
       "   low salt chicken broth  white wine vinegar  \n",
       "0                     0.0                 0.0  \n",
       "1                     0.0                 0.0  \n",
       "2                     0.0                 0.0  \n",
       "3                     0.0                 0.0  \n",
       "4                     0.0                 0.0  \n",
       "\n",
       "[5 rows x 479 columns]"
      ]
     },
     "execution_count": 12,
     "metadata": {},
     "output_type": "execute_result"
    }
   ],
   "source": [
    "for ingredient in ingredients:\n",
    "    dataset[ingredient] = np.zeros(len(dataset[\"ingredients\"]))\n",
    "dataset.head()"
   ]
  },
  {
   "cell_type": "code",
   "execution_count": 13,
   "metadata": {
    "colab": {},
    "colab_type": "code",
    "id": "k5GCeqXOyIca"
   },
   "outputs": [
    {
     "data": {
      "text/html": [
       "<div>\n",
       "<style scoped>\n",
       "    .dataframe tbody tr th:only-of-type {\n",
       "        vertical-align: middle;\n",
       "    }\n",
       "\n",
       "    .dataframe tbody tr th {\n",
       "        vertical-align: top;\n",
       "    }\n",
       "\n",
       "    .dataframe thead th {\n",
       "        text-align: right;\n",
       "    }\n",
       "</style>\n",
       "<table border=\"1\" class=\"dataframe\">\n",
       "  <thead>\n",
       "    <tr style=\"text-align: right;\">\n",
       "      <th></th>\n",
       "      <th>cuisine</th>\n",
       "      <th>ingredients</th>\n",
       "      <th>romaine lettuce</th>\n",
       "      <th>black olives</th>\n",
       "      <th>grape tomatoes</th>\n",
       "      <th>garlic</th>\n",
       "      <th>pepper</th>\n",
       "      <th>purple onion</th>\n",
       "      <th>seasoning</th>\n",
       "      <th>garbanzo beans</th>\n",
       "      <th>...</th>\n",
       "      <th>hominy</th>\n",
       "      <th>tomatillos</th>\n",
       "      <th>pepitas</th>\n",
       "      <th>catfish fillets</th>\n",
       "      <th>basmati rice</th>\n",
       "      <th>cauliflower</th>\n",
       "      <th>cumin</th>\n",
       "      <th>blood orange</th>\n",
       "      <th>low salt chicken broth</th>\n",
       "      <th>white wine vinegar</th>\n",
       "    </tr>\n",
       "  </thead>\n",
       "  <tbody>\n",
       "    <tr>\n",
       "      <th>0</th>\n",
       "      <td>Greek</td>\n",
       "      <td>[romaine lettuce, black olives, grape tomatoes...</td>\n",
       "      <td>1.0</td>\n",
       "      <td>1.0</td>\n",
       "      <td>1.0</td>\n",
       "      <td>1.0</td>\n",
       "      <td>1.0</td>\n",
       "      <td>1.0</td>\n",
       "      <td>1.0</td>\n",
       "      <td>1.0</td>\n",
       "      <td>...</td>\n",
       "      <td>0.0</td>\n",
       "      <td>0.0</td>\n",
       "      <td>0.0</td>\n",
       "      <td>0.0</td>\n",
       "      <td>0.0</td>\n",
       "      <td>0.0</td>\n",
       "      <td>0.0</td>\n",
       "      <td>0.0</td>\n",
       "      <td>0.0</td>\n",
       "      <td>0.0</td>\n",
       "    </tr>\n",
       "    <tr>\n",
       "      <th>1</th>\n",
       "      <td>Southern_us</td>\n",
       "      <td>[plain flour, ground pepper, salt, tomatoes, g...</td>\n",
       "      <td>0.0</td>\n",
       "      <td>0.0</td>\n",
       "      <td>0.0</td>\n",
       "      <td>0.0</td>\n",
       "      <td>0.0</td>\n",
       "      <td>0.0</td>\n",
       "      <td>0.0</td>\n",
       "      <td>0.0</td>\n",
       "      <td>...</td>\n",
       "      <td>0.0</td>\n",
       "      <td>0.0</td>\n",
       "      <td>0.0</td>\n",
       "      <td>0.0</td>\n",
       "      <td>0.0</td>\n",
       "      <td>0.0</td>\n",
       "      <td>0.0</td>\n",
       "      <td>0.0</td>\n",
       "      <td>0.0</td>\n",
       "      <td>0.0</td>\n",
       "    </tr>\n",
       "    <tr>\n",
       "      <th>2</th>\n",
       "      <td>Filipino</td>\n",
       "      <td>[eggs, pepper, salt, mayonaise, cooking oil, g...</td>\n",
       "      <td>0.0</td>\n",
       "      <td>0.0</td>\n",
       "      <td>0.0</td>\n",
       "      <td>0.0</td>\n",
       "      <td>1.0</td>\n",
       "      <td>0.0</td>\n",
       "      <td>0.0</td>\n",
       "      <td>0.0</td>\n",
       "      <td>...</td>\n",
       "      <td>0.0</td>\n",
       "      <td>0.0</td>\n",
       "      <td>0.0</td>\n",
       "      <td>0.0</td>\n",
       "      <td>0.0</td>\n",
       "      <td>0.0</td>\n",
       "      <td>0.0</td>\n",
       "      <td>0.0</td>\n",
       "      <td>0.0</td>\n",
       "      <td>0.0</td>\n",
       "    </tr>\n",
       "    <tr>\n",
       "      <th>3</th>\n",
       "      <td>Indian</td>\n",
       "      <td>[water, vegetable oil, wheat, salt]</td>\n",
       "      <td>0.0</td>\n",
       "      <td>0.0</td>\n",
       "      <td>0.0</td>\n",
       "      <td>0.0</td>\n",
       "      <td>0.0</td>\n",
       "      <td>0.0</td>\n",
       "      <td>0.0</td>\n",
       "      <td>0.0</td>\n",
       "      <td>...</td>\n",
       "      <td>0.0</td>\n",
       "      <td>0.0</td>\n",
       "      <td>0.0</td>\n",
       "      <td>0.0</td>\n",
       "      <td>0.0</td>\n",
       "      <td>0.0</td>\n",
       "      <td>0.0</td>\n",
       "      <td>0.0</td>\n",
       "      <td>0.0</td>\n",
       "      <td>0.0</td>\n",
       "    </tr>\n",
       "    <tr>\n",
       "      <th>4</th>\n",
       "      <td>Indian</td>\n",
       "      <td>[black pepper, shallots, cornflour, cayenne pe...</td>\n",
       "      <td>0.0</td>\n",
       "      <td>0.0</td>\n",
       "      <td>0.0</td>\n",
       "      <td>0.0</td>\n",
       "      <td>0.0</td>\n",
       "      <td>0.0</td>\n",
       "      <td>0.0</td>\n",
       "      <td>0.0</td>\n",
       "      <td>...</td>\n",
       "      <td>0.0</td>\n",
       "      <td>0.0</td>\n",
       "      <td>0.0</td>\n",
       "      <td>0.0</td>\n",
       "      <td>0.0</td>\n",
       "      <td>0.0</td>\n",
       "      <td>0.0</td>\n",
       "      <td>0.0</td>\n",
       "      <td>0.0</td>\n",
       "      <td>0.0</td>\n",
       "    </tr>\n",
       "  </tbody>\n",
       "</table>\n",
       "<p>5 rows × 479 columns</p>\n",
       "</div>"
      ],
      "text/plain": [
       "       cuisine                                        ingredients  \\\n",
       "0        Greek  [romaine lettuce, black olives, grape tomatoes...   \n",
       "1  Southern_us  [plain flour, ground pepper, salt, tomatoes, g...   \n",
       "2     Filipino  [eggs, pepper, salt, mayonaise, cooking oil, g...   \n",
       "3       Indian                [water, vegetable oil, wheat, salt]   \n",
       "4       Indian  [black pepper, shallots, cornflour, cayenne pe...   \n",
       "\n",
       "   romaine lettuce  black olives  grape tomatoes  garlic  pepper  \\\n",
       "0              1.0           1.0             1.0     1.0     1.0   \n",
       "1              0.0           0.0             0.0     0.0     0.0   \n",
       "2              0.0           0.0             0.0     0.0     1.0   \n",
       "3              0.0           0.0             0.0     0.0     0.0   \n",
       "4              0.0           0.0             0.0     0.0     0.0   \n",
       "\n",
       "   purple onion  seasoning  garbanzo beans  ...  hominy  tomatillos  pepitas  \\\n",
       "0           1.0        1.0             1.0  ...     0.0         0.0      0.0   \n",
       "1           0.0        0.0             0.0  ...     0.0         0.0      0.0   \n",
       "2           0.0        0.0             0.0  ...     0.0         0.0      0.0   \n",
       "3           0.0        0.0             0.0  ...     0.0         0.0      0.0   \n",
       "4           0.0        0.0             0.0  ...     0.0         0.0      0.0   \n",
       "\n",
       "   catfish fillets  basmati rice  cauliflower  cumin  blood orange  \\\n",
       "0              0.0           0.0          0.0    0.0           0.0   \n",
       "1              0.0           0.0          0.0    0.0           0.0   \n",
       "2              0.0           0.0          0.0    0.0           0.0   \n",
       "3              0.0           0.0          0.0    0.0           0.0   \n",
       "4              0.0           0.0          0.0    0.0           0.0   \n",
       "\n",
       "   low salt chicken broth  white wine vinegar  \n",
       "0                     0.0                 0.0  \n",
       "1                     0.0                 0.0  \n",
       "2                     0.0                 0.0  \n",
       "3                     0.0                 0.0  \n",
       "4                     0.0                 0.0  \n",
       "\n",
       "[5 rows x 479 columns]"
      ]
     },
     "execution_count": 13,
     "metadata": {},
     "output_type": "execute_result"
    }
   ],
   "source": [
    "def find_item(ingredients_list, dataset):\n",
    "    position = 0\n",
    "    for items in ingredients_list:\n",
    "        for item in items:\n",
    "            if item in ingredients:\n",
    "                dataset.loc[position, item] = 1\n",
    "            else:\n",
    "                pass\n",
    "        position = position + 1\n",
    "find_item(dataset[\"ingredients\"], dataset)\n",
    "dataset.head()"
   ]
  },
  {
   "cell_type": "code",
   "execution_count": 14,
   "metadata": {
    "colab": {},
    "colab_type": "code",
    "id": "d6mE71s10Ict"
   },
   "outputs": [],
   "source": [
    "X = dataset[ingredients]\n",
    "Y = dataset['cuisine']\n",
    "X_train,X_test,Y_train,Y_test = train_test_split(X,Y,test_size=0.2)"
   ]
  },
  {
   "cell_type": "code",
   "execution_count": 15,
   "metadata": {
    "colab": {},
    "colab_type": "code",
    "id": "v0P1hg9k2eJv"
   },
   "outputs": [],
   "source": [
    "def getHammingDistance(test_instance, train_instance):\n",
    "  distance = 0\n",
    "  l = len(test_instance)\n",
    "  for i in range(l):\n",
    "    if test_instance.iloc[i] != train_instance.iloc[i]:\n",
    "      distance += 1\n",
    "  return distance"
   ]
  },
  {
   "cell_type": "code",
   "execution_count": 16,
   "metadata": {
    "colab": {},
    "colab_type": "code",
    "id": "UBuMBtrU3g4z"
   },
   "outputs": [],
   "source": [
    "def getKNearNeighbors(X_train, Y_train, test_instance, k):\n",
    "  distances = []\n",
    "  for x in range(len(X_train)):\n",
    "    distance = getHammingDistance( X_train.iloc[x, :], test_instance)\n",
    "    distances.append((Y_train.iloc[x], distance))\n",
    "  distances.sort(key=operator.itemgetter(1))\n",
    "  neighbors = []\n",
    "  for x in distances[:k]:\n",
    "    neighbors.append(x)\n",
    "  return neighbors\n",
    "    "
   ]
  },
  {
   "cell_type": "code",
   "execution_count": 17,
   "metadata": {
    "colab": {},
    "colab_type": "code",
    "id": "MCev2gKu-MEs"
   },
   "outputs": [
    {
     "data": {
      "text/plain": [
       "13"
      ]
     },
     "execution_count": 17,
     "metadata": {},
     "output_type": "execute_result"
    }
   ],
   "source": [
    "neighbors = getKNearNeighbors(X_train.head(), Y_train.head(), X_test.iloc[0,:], 2)\n",
    "neighbors[0][1]"
   ]
  },
  {
   "cell_type": "code",
   "execution_count": 18,
   "metadata": {
    "colab": {},
    "colab_type": "code",
    "id": "VN5ePjRv6e5B"
   },
   "outputs": [],
   "source": [
    "def getPredictedClass(neighbors):\n",
    "  classVotes = {}\n",
    "  for x in range(len(neighbors)):\n",
    "    predictedClass = neighbors[x][0]\n",
    "    if predictedClass in classVotes:\n",
    "      classVotes[predictedClass] += 1\n",
    "    else:\n",
    "        classVotes[predictedClass] = 1\n",
    "  sortedVotes = sorted(classVotes, key=operator.itemgetter(1), reverse=True)\n",
    "  return sortedVotes[0]"
   ]
  },
  {
   "cell_type": "code",
   "execution_count": 19,
   "metadata": {
    "colab": {},
    "colab_type": "code",
    "id": "5Z5fN9PSD-Au"
   },
   "outputs": [
    {
     "data": {
      "text/plain": [
       "'Italian'"
      ]
     },
     "execution_count": 19,
     "metadata": {},
     "output_type": "execute_result"
    }
   ],
   "source": [
    "predictedClass = getPredictedClass(neighbors)\n",
    "predictedClass"
   ]
  },
  {
   "cell_type": "code",
   "execution_count": 20,
   "metadata": {
    "colab": {},
    "colab_type": "code",
    "id": "cWPv5cCF4Eyl"
   },
   "outputs": [],
   "source": [
    "def getAccuracy(Y_test, predictions):\n",
    "  correct = 0\n",
    "  l = len(predictions)\n",
    "  for i in range(l):\n",
    "    if Y_test.iloc[i] == predictions[i]:\n",
    "      correct += 1\n",
    "  return correct / l"
   ]
  },
  {
   "cell_type": "code",
   "execution_count": 21,
   "metadata": {},
   "outputs": [
    {
     "data": {
      "text/plain": [
       "(80,)"
      ]
     },
     "execution_count": 21,
     "metadata": {},
     "output_type": "execute_result"
    }
   ],
   "source": [
    "Y_train.shape"
   ]
  },
  {
   "cell_type": "code",
   "execution_count": 22,
   "metadata": {
    "colab": {},
    "colab_type": "code",
    "id": "t-7ev1sV8WI2"
   },
   "outputs": [
    {
     "name": "stdout",
     "output_type": "stream",
     "text": [
      "['Southern_us', 'Italian', 'Italian', 'Southern_us', 'French', 'Italian', 'French', 'Italian', 'Italian', 'Italian', 'Italian', 'Italian', 'Southern_us', 'Italian', 'Italian', 'Italian', 'Italian', 'Italian', 'Italian', 'Southern_us']\n"
     ]
    },
    {
     "data": {
      "text/plain": [
       "0.35"
      ]
     },
     "execution_count": 22,
     "metadata": {},
     "output_type": "execute_result"
    }
   ],
   "source": [
    "predictions=[]\n",
    "k = 3\n",
    "l = len(X_test)\n",
    "for x in range(l):\n",
    "  neighbors = getKNearNeighbors(X_train, Y_train,X_test.iloc[x, :], k)\n",
    "  result = getPredictedClass(neighbors)\n",
    "  predictions.append(result)\n",
    "print(predictions)\n",
    "getAccuracy(Y_test, predictions)\n",
    "  "
   ]
  },
  {
   "cell_type": "code",
   "execution_count": 23,
   "metadata": {
    "colab": {},
    "colab_type": "code",
    "id": "KIXxZclYzmQA"
   },
   "outputs": [
    {
     "data": {
      "text/plain": [
       "KNeighborsClassifier(algorithm='auto', leaf_size=30, metric='minkowski',\n",
       "           metric_params=None, n_jobs=1, n_neighbors=5, p=2,\n",
       "           weights='uniform')"
      ]
     },
     "execution_count": 23,
     "metadata": {},
     "output_type": "execute_result"
    }
   ],
   "source": [
    "from sklearn.neighbors import KNeighborsClassifier\n",
    "classifier = KNeighborsClassifier(n_neighbors = 5, metric = 'minkowski', p = 2)\n",
    "classifier.fit(X_train, Y_train)"
   ]
  },
  {
   "cell_type": "code",
   "execution_count": 24,
   "metadata": {
    "colab": {},
    "colab_type": "code",
    "id": "7duazdI13ySb"
   },
   "outputs": [],
   "source": [
    "y_pred = classifier.predict(X_test)\n"
   ]
  },
  {
   "cell_type": "code",
   "execution_count": 25,
   "metadata": {},
   "outputs": [
    {
     "data": {
      "text/plain": [
       "0.2"
      ]
     },
     "execution_count": 25,
     "metadata": {},
     "output_type": "execute_result"
    }
   ],
   "source": [
    "accuracy_score(Y_test, y_pred)"
   ]
  },
  {
   "cell_type": "code",
   "execution_count": null,
   "metadata": {},
   "outputs": [],
   "source": []
  },
  {
   "cell_type": "code",
   "execution_count": null,
   "metadata": {},
   "outputs": [],
   "source": []
  }
 ],
 "metadata": {
  "accelerator": "TPU",
  "colab": {
   "collapsed_sections": [],
   "name": "KNNTrial.ipynb",
   "provenance": [],
   "version": "0.3.2"
  },
  "kernelspec": {
   "display_name": "Python 3",
   "language": "python",
   "name": "python3"
  },
  "language_info": {
   "codemirror_mode": {
    "name": "ipython",
    "version": 3
   },
   "file_extension": ".py",
   "mimetype": "text/x-python",
   "name": "python",
   "nbconvert_exporter": "python",
   "pygments_lexer": "ipython3",
   "version": "3.6.8"
  }
 },
 "nbformat": 4,
 "nbformat_minor": 1
}
